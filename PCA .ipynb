{
  "nbformat": 4,
  "nbformat_minor": 0,
  "metadata": {
    "colab": {
      "name": "PCA.ipynb",
      "provenance": [],
      "collapsed_sections": []
    },
    "kernelspec": {
      "name": "python3",
      "display_name": "Python 3"
    }
  },
  "cells": [
    {
      "cell_type": "code",
      "metadata": {
        "id": "EPOK2WrQ8laC",
        "colab_type": "code",
        "colab": {}
      },
      "source": [
        "import tensorflow as tf\n",
        "import numpy\n",
        "from math import *\n",
        "import pandas as pd"
      ],
      "execution_count": 0,
      "outputs": []
    },
    {
      "cell_type": "code",
      "metadata": {
        "id": "JGOx7y61TGab",
        "colab_type": "code",
        "colab": {}
      },
      "source": [
        "def covariance(data,dim1,dim2):#finds the covariance between any two dimentions\n",
        "  total=0\n",
        "  for i in data:\n",
        "    total+=i[dim1]*i[dim2]\n",
        "  return total/(len(data)-1)#using Bessel's correction here"
      ],
      "execution_count": 0,
      "outputs": []
    },
    {
      "cell_type": "code",
      "metadata": {
        "id": "l6Jm5uFG-ijJ",
        "colab_type": "code",
        "colab": {
          "base_uri": "https://localhost:8080/",
          "height": 406
        },
        "outputId": "2f4c104c-11e1-48f7-e724-bd5401eabf5e"
      },
      "source": [
        "#test data from https://www.kaggle.com/aungpyaeap/fish-market\n",
        "#import data\n",
        "dataFrame=pd.read_csv(\"Fish.csv\")\n",
        "dataFrame=dataFrame.drop(columns=[\"Species\"])\n",
        "dataFrame"
      ],
      "execution_count": 7,
      "outputs": [
        {
          "output_type": "execute_result",
          "data": {
            "text/html": [
              "<div>\n",
              "<style scoped>\n",
              "    .dataframe tbody tr th:only-of-type {\n",
              "        vertical-align: middle;\n",
              "    }\n",
              "\n",
              "    .dataframe tbody tr th {\n",
              "        vertical-align: top;\n",
              "    }\n",
              "\n",
              "    .dataframe thead th {\n",
              "        text-align: right;\n",
              "    }\n",
              "</style>\n",
              "<table border=\"1\" class=\"dataframe\">\n",
              "  <thead>\n",
              "    <tr style=\"text-align: right;\">\n",
              "      <th></th>\n",
              "      <th>Weight</th>\n",
              "      <th>Length1</th>\n",
              "      <th>Length2</th>\n",
              "      <th>Length3</th>\n",
              "      <th>Height</th>\n",
              "      <th>Width</th>\n",
              "    </tr>\n",
              "  </thead>\n",
              "  <tbody>\n",
              "    <tr>\n",
              "      <th>0</th>\n",
              "      <td>242.0</td>\n",
              "      <td>23.2</td>\n",
              "      <td>25.4</td>\n",
              "      <td>30.0</td>\n",
              "      <td>11.5200</td>\n",
              "      <td>4.0200</td>\n",
              "    </tr>\n",
              "    <tr>\n",
              "      <th>1</th>\n",
              "      <td>290.0</td>\n",
              "      <td>24.0</td>\n",
              "      <td>26.3</td>\n",
              "      <td>31.2</td>\n",
              "      <td>12.4800</td>\n",
              "      <td>4.3056</td>\n",
              "    </tr>\n",
              "    <tr>\n",
              "      <th>2</th>\n",
              "      <td>340.0</td>\n",
              "      <td>23.9</td>\n",
              "      <td>26.5</td>\n",
              "      <td>31.1</td>\n",
              "      <td>12.3778</td>\n",
              "      <td>4.6961</td>\n",
              "    </tr>\n",
              "    <tr>\n",
              "      <th>3</th>\n",
              "      <td>363.0</td>\n",
              "      <td>26.3</td>\n",
              "      <td>29.0</td>\n",
              "      <td>33.5</td>\n",
              "      <td>12.7300</td>\n",
              "      <td>4.4555</td>\n",
              "    </tr>\n",
              "    <tr>\n",
              "      <th>4</th>\n",
              "      <td>430.0</td>\n",
              "      <td>26.5</td>\n",
              "      <td>29.0</td>\n",
              "      <td>34.0</td>\n",
              "      <td>12.4440</td>\n",
              "      <td>5.1340</td>\n",
              "    </tr>\n",
              "    <tr>\n",
              "      <th>...</th>\n",
              "      <td>...</td>\n",
              "      <td>...</td>\n",
              "      <td>...</td>\n",
              "      <td>...</td>\n",
              "      <td>...</td>\n",
              "      <td>...</td>\n",
              "    </tr>\n",
              "    <tr>\n",
              "      <th>154</th>\n",
              "      <td>12.2</td>\n",
              "      <td>11.5</td>\n",
              "      <td>12.2</td>\n",
              "      <td>13.4</td>\n",
              "      <td>2.0904</td>\n",
              "      <td>1.3936</td>\n",
              "    </tr>\n",
              "    <tr>\n",
              "      <th>155</th>\n",
              "      <td>13.4</td>\n",
              "      <td>11.7</td>\n",
              "      <td>12.4</td>\n",
              "      <td>13.5</td>\n",
              "      <td>2.4300</td>\n",
              "      <td>1.2690</td>\n",
              "    </tr>\n",
              "    <tr>\n",
              "      <th>156</th>\n",
              "      <td>12.2</td>\n",
              "      <td>12.1</td>\n",
              "      <td>13.0</td>\n",
              "      <td>13.8</td>\n",
              "      <td>2.2770</td>\n",
              "      <td>1.2558</td>\n",
              "    </tr>\n",
              "    <tr>\n",
              "      <th>157</th>\n",
              "      <td>19.7</td>\n",
              "      <td>13.2</td>\n",
              "      <td>14.3</td>\n",
              "      <td>15.2</td>\n",
              "      <td>2.8728</td>\n",
              "      <td>2.0672</td>\n",
              "    </tr>\n",
              "    <tr>\n",
              "      <th>158</th>\n",
              "      <td>19.9</td>\n",
              "      <td>13.8</td>\n",
              "      <td>15.0</td>\n",
              "      <td>16.2</td>\n",
              "      <td>2.9322</td>\n",
              "      <td>1.8792</td>\n",
              "    </tr>\n",
              "  </tbody>\n",
              "</table>\n",
              "<p>159 rows × 6 columns</p>\n",
              "</div>"
            ],
            "text/plain": [
              "     Weight  Length1  Length2  Length3   Height   Width\n",
              "0     242.0     23.2     25.4     30.0  11.5200  4.0200\n",
              "1     290.0     24.0     26.3     31.2  12.4800  4.3056\n",
              "2     340.0     23.9     26.5     31.1  12.3778  4.6961\n",
              "3     363.0     26.3     29.0     33.5  12.7300  4.4555\n",
              "4     430.0     26.5     29.0     34.0  12.4440  5.1340\n",
              "..      ...      ...      ...      ...      ...     ...\n",
              "154    12.2     11.5     12.2     13.4   2.0904  1.3936\n",
              "155    13.4     11.7     12.4     13.5   2.4300  1.2690\n",
              "156    12.2     12.1     13.0     13.8   2.2770  1.2558\n",
              "157    19.7     13.2     14.3     15.2   2.8728  2.0672\n",
              "158    19.9     13.8     15.0     16.2   2.9322  1.8792\n",
              "\n",
              "[159 rows x 6 columns]"
            ]
          },
          "metadata": {
            "tags": []
          },
          "execution_count": 7
        }
      ]
    },
    {
      "cell_type": "code",
      "metadata": {
        "id": "aqhDmcOzbFU3",
        "colab_type": "code",
        "colab": {}
      },
      "source": [
        "axies=6\n",
        "data=[]\n",
        "for inx,v in dataFrame.iterrows():\n",
        "  data.append([float(i) for i in v])"
      ],
      "execution_count": 0,
      "outputs": []
    },
    {
      "cell_type": "code",
      "metadata": {
        "id": "Y9aOKWwZO_Xi",
        "colab_type": "code",
        "colab": {}
      },
      "source": [
        "#centre the data & calculate variances\n",
        "totals=[0 for i in range(axies)]\n",
        "squareTotals=[0 for i in range(axies)]\n",
        "means=[0 for i in range(axies)]\n",
        "variances=[0 for i in range(axies)]\n",
        "for i in data:\n",
        "  for j,v in enumerate(i):\n",
        "    totals[j]+=v\n",
        "    squareTotals[j]+=v**2\n",
        "for i in range(axies):\n",
        "  means[i]=totals[i]/len(data)\n",
        "  variances[i]=squareTotals[i]/len(data)#calculate variance for each dimention\n",
        "for x,i in enumerate(data):\n",
        "  for y,j in enumerate(i):\n",
        "    data[x][y]=j-means[y]\n",
        "print(data)\n",
        "print(variances)"
      ],
      "execution_count": 0,
      "outputs": []
    },
    {
      "cell_type": "code",
      "metadata": {
        "id": "26ZEasUjQoaR",
        "colab_type": "code",
        "outputId": "40ac34e0-e895-4c53-cee6-dcd2919f4022",
        "colab": {
          "base_uri": "https://localhost:8080/",
          "height": 230
        }
      },
      "source": [
        "#Build the covariance matrix\n",
        "#The fun begins\n",
        "covarianceRows=[]\n",
        "for i in range(axies):\n",
        "  covarianceRows.append([])\n",
        "  for j in range(axies):\n",
        "    if(i!=j):\n",
        "      print(format(covariance(data,i,j),\".2f\"),end=\"\\t\")\n",
        "      covarianceRows[i].append(covariance(data,i,j))\n",
        "    else:\n",
        "      print(format(variances[i],\".2f\"),end=\"\\t\")\n",
        "      covarianceRows[i].append(variances[i])\n",
        "  print()\n",
        "  print()\n",
        "\n",
        "covarianceMatrix=tf.constant(covarianceRows)"
      ],
      "execution_count": 12,
      "outputs": [
        {
          "output_type": "stream",
          "text": [
            "286006.44\t3276.88\t3524.01\t3836.37\t1111.41\t534.99\t\n",
            "\n",
            "3276.88\t788.21\t107.07\t115.14\t26.80\t14.61\t\n",
            "\n",
            "3524.01\t107.07\t921.57\t123.69\t29.42\t15.78\t\n",
            "\n",
            "3836.37\t115.14\t123.69\t1109.08\t35.00\t17.19\t\n",
            "\n",
            "1111.41\t26.80\t29.42\t35.00\t98.73\t5.73\t\n",
            "\n",
            "534.99\t14.61\t15.78\t17.19\t5.73\t22.34\t\n",
            "\n"
          ],
          "name": "stdout"
        }
      ]
    },
    {
      "cell_type": "code",
      "metadata": {
        "id": "LsI-9dzmYb01",
        "colab_type": "code",
        "colab": {}
      },
      "source": [
        "#The magic eigenvalues\n",
        "#multi-dimentional lines of best fit\n",
        "PCEigVals,protoPCs=tf.eig(covarianceMatrix)\n",
        "print(tf.eig(covarianceMatrix))\n",
        "PCEigVals=[float(i)for i in PCEigVals]\n",
        "protoPCs=[[float(j)for j in i] for i in protoPCs]\n",
        "print(PCEigVals)\n",
        "print(protoPCs)"
      ],
      "execution_count": 0,
      "outputs": []
    },
    {
      "cell_type": "code",
      "metadata": {
        "id": "Wy6GFGaTiJtN",
        "colab_type": "code",
        "colab": {}
      },
      "source": [
        "#sort eigen stuff\n",
        "PCs = [x for _,x in sorted(zip(PCEigVals,protoPCs),reverse=True)]\n",
        "PCEigVals=sorted(PCEigVals,reverse=True)\n",
        "print(PCEigVals)\n",
        "print(PCs)\n",
        "PCmatrix=[]\n",
        "for i in range(axies):\n",
        "  PCmatrix.append([])\n",
        "  for j in range(axies):\n",
        "    PCmatrix[i].append(PCs[j][i])\n",
        "print(PCmatrix)"
      ],
      "execution_count": 0,
      "outputs": []
    },
    {
      "cell_type": "code",
      "metadata": {
        "id": "VfyKF0uUqya7",
        "colab_type": "code",
        "outputId": "9339af66-7528-4aaa-fb49-9090bbddcda1",
        "colab": {
          "base_uri": "https://localhost:8080/",
          "height": 463
        }
      },
      "source": [
        "#Scree plot\n",
        "print(\"Scree Plot\")\n",
        "from matplotlib import pyplot as plt\n",
        "toPlot=[]\n",
        "for i,v in enumerate(PCEigVals):\n",
        "  var=v/(axies-1)\n",
        "  if(var<0):\n",
        "    break#because they are ordered descending\n",
        "  toPlot.append(var)\n",
        "total=sum(toPlot)\n",
        "for i,v in enumerate(toPlot):\n",
        "  print(\"PC-\"+str(i+1)+\"\\tvariance:\"+str(v)+\"\\t%-variance:\"+str(v/total*100)+\"%\")\n",
        "\n",
        "fig = plt.figure()\n",
        "ax = fig.add_axes([0,0,1,1])\n",
        "langs = [\"PC-\"+str(i+1) for i in range(len(toPlot))]\n",
        "ax.bar(langs,toPlot)\n",
        "plt.show()"
      ],
      "execution_count": 15,
      "outputs": [
        {
          "output_type": "stream",
          "text": [
            "Scree Plot\n",
            "PC-1\tvariance:57228.9375\t%-variance:99.03037523524827%\n",
            "PC-2\tvariance:221.8309326171875\t%-variance:0.38386175692786806%\n",
            "PC-3\tvariance:172.01248779296876\t%-variance:0.2976546823237153%\n",
            "PC-4\tvariance:143.57205810546876\t%-variance:0.2484406562236358%\n",
            "PC-5\tvariance:18.734788513183595\t%-variance:0.03241914348686957%\n",
            "PC-6\tvariance:4.188870620727539\t%-variance:0.007248525789641919%\n"
          ],
          "name": "stdout"
        },
        {
          "output_type": "display_data",
          "data": {
            "image/png": "[encoded data removed]",
            "text/plain": [
              "<Figure size 432x288 with 1 Axes>"
            ]
          },
          "metadata": {
            "tags": [],
            "needs_background": "light"
          }
        }
      ]
    },
    {
      "cell_type": "code",
      "metadata": {
        "id": "ReOxaZR7uB66",
        "colab_type": "code",
        "outputId": "1a50058d-0dd8-4a16-f910-0a7aaca241ff",
        "colab": {
          "base_uri": "https://localhost:8080/",
          "height": 1000
        }
      },
      "source": [
        "newVals=tf.matmul(tf.constant(data),tf.constant(PCmatrix))\n",
        "[print(\"PC-\"+str(i+1)+\"\\t\",end=\"\") for i in range(len(toPlot))]\n",
        "print()\n",
        "for i in newVals:\n",
        "  for j in i:\n",
        "    print(format(j,\".2f\"),end=\"\\t\")\n",
        "  print()"
      ],
      "execution_count": 16,
      "outputs": [
        {
          "output_type": "stream",
          "text": [
            "PC-1\tPC-2\tPC-3\tPC-4\tPC-5\tPC-6\t\n",
            "156.32\t-3.78\t0.88\t1.62\t-3.39\t-0.67\t\n",
            "108.34\t-2.44\t2.53\t1.06\t-2.15\t-0.33\t\n",
            "58.40\t-0.14\t2.75\t1.47\t-1.50\t0.13\t\n",
            "35.32\t-1.53\t4.00\t-1.08\t0.58\t-0.07\t\n",
            "-31.62\t1.21\t4.48\t-1.04\t1.01\t0.71\t\n",
            "-51.60\t1.82\t5.88\t-1.28\t1.96\t0.51\t\n",
            "-101.53\t4.04\t6.70\t-0.46\t2.62\t0.92\t\n",
            "8.29\t-1.65\t4.70\t-2.48\t1.39\t0.21\t\n",
            "-51.63\t1.03\t6.39\t-1.56\t2.26\t0.43\t\n",
            "-101.61\t2.33\t7.37\t-2.23\t3.17\t0.62\t\n",
            "-76.63\t1.33\t7.18\t-2.53\t3.23\t0.72\t\n",
            "-101.62\t2.14\t7.46\t-2.27\t3.49\t0.47\t\n",
            "-101.64\t1.72\t6.94\t-2.83\t3.75\t0.03\t\n",
            "58.17\t-5.71\t6.21\t-5.07\t2.57\t0.52\t\n",
            "-201.54\t5.85\t9.06\t-2.39\t5.26\t0.96\t\n",
            "-201.53\t5.86\t9.50\t-2.20\t5.38\t1.35\t\n",
            "-301.47\t9.24\t10.10\t-2.84\t6.83\t1.22\t\n",
            "-301.48\t9.24\t10.26\t-2.99\t6.80\t1.13\t\n",
            "-211.58\t4.81\t10.19\t-3.74\t6.59\t0.93\t\n",
            "-251.56\t6.43\t9.51\t-3.91\t6.66\t1.60\t\n",
            "-176.65\t2.85\t9.81\t-5.16\t6.40\t1.33\t\n",
            "-286.52\t7.61\t11.29\t-3.64\t7.70\t1.26\t\n",
            "-221.60\t4.64\t10.53\t-4.97\t7.33\t1.10\t\n",
            "-281.55\t6.98\t11.27\t-5.41\t8.13\t2.04\t\n",
            "-301.53\t7.77\t12.07\t-4.88\t8.52\t1.51\t\n",
            "-326.49\t8.97\t12.54\t-4.96\t8.69\t2.01\t\n",
            "-321.51\t8.56\t12.38\t-4.74\t8.72\t2.03\t\n",
            "-315.54\t7.60\t12.74\t-5.84\t9.42\t1.79\t\n",
            "-451.40\t13.49\t14.15\t-4.62\t10.75\t2.32\t\n",
            "-601.24\t19.44\t17.46\t-3.77\t13.35\t2.89\t\n",
            "-521.41\t14.39\t16.51\t-6.57\t13.43\t2.51\t\n",
            "-556.37\t15.94\t16.78\t-6.16\t13.79\t2.55\t\n",
            "-526.44\t13.43\t17.61\t-7.61\t14.31\t2.96\t\n",
            "-576.44\t14.44\t17.98\t-8.22\t16.02\t3.03\t\n",
            "-551.51\t12.70\t17.15\t-9.32\t15.40\t2.64\t\n",
            "358.48\t-2.52\t-11.98\t12.71\t-14.37\t-2.64\t\n",
            "329.37\t-4.82\t-9.40\t8.53\t-10.95\t-2.05\t\n",
            "320.33\t-5.42\t-8.75\t7.75\t-10.44\t-1.95\t\n",
            "311.31\t-5.72\t-8.33\t6.66\t-9.65\t-1.66\t\n",
            "278.34\t-4.65\t-7.55\t7.10\t-9.00\t-1.23\t\n",
            "398.19\t-10.33\t-8.03\t5.49\t-9.72\t-1.62\t\n",
            "288.30\t-5.60\t-7.38\t5.96\t-8.57\t-1.42\t\n",
            "278.30\t-5.46\t-7.11\t5.44\t-8.46\t-1.50\t\n",
            "248.28\t-5.15\t-6.83\t4.41\t-7.55\t-0.98\t\n",
            "253.29\t-5.45\t-6.30\t5.02\t-7.29\t-1.22\t\n",
            "238.30\t-4.78\t-5.46\t4.26\t-6.83\t-0.93\t\n",
            "258.25\t-6.17\t-6.17\t4.17\t-7.06\t-1.44\t\n",
            "238.27\t-5.39\t-6.14\t4.30\t-6.90\t-0.93\t\n",
            "229.25\t-5.88\t-4.29\t2.40\t-5.67\t-0.90\t\n",
            "237.23\t-6.25\t-5.04\t2.73\t-6.34\t-1.10\t\n",
            "198.28\t-4.62\t-4.28\t3.13\t-5.78\t-0.56\t\n",
            "218.19\t-7.00\t-4.42\t1.35\t-4.71\t-0.80\t\n",
            "108.31\t-2.52\t-1.51\t1.57\t-2.81\t-0.08\t\n",
            "126.24\t-4.32\t-1.43\t-0.23\t-2.45\t0.19\t\n",
            "8.18\t-3.61\t1.68\t-4.18\t2.24\t0.94\t\n",
            "128.30\t-3.01\t-2.33\t1.64\t-3.01\t-0.35\t\n",
            "128.27\t-3.52\t-2.34\t0.87\t-2.74\t-0.34\t\n",
            "92.25\t-3.42\t-1.01\t-0.36\t-1.19\t0.14\t\n",
            "-141.60\t4.03\t3.60\t-1.34\t3.53\t2.32\t\n",
            "-401.54\t10.28\t8.30\t-5.32\t9.92\t2.71\t\n",
            "-601.48\t15.48\t11.64\t-7.91\t14.37\t2.95\t\n",
            "343.51\t-2.39\t-9.38\t13.39\t-13.07\t-2.61\t\n",
            "338.47\t-2.98\t-9.28\t12.30\t-12.56\t-2.61\t\n",
            "308.43\t-3.64\t-7.52\t10.08\t-10.58\t-2.21\t\n",
            "278.42\t-3.50\t-5.90\t8.99\t-9.20\t-1.93\t\n",
            "248.41\t-3.07\t-4.85\t8.16\t-8.12\t-1.52\t\n",
            "258.37\t-4.12\t-4.98\t7.03\t-7.83\t-1.52\t\n",
            "228.42\t-2.77\t-3.98\t7.61\t-7.34\t-1.38\t\n",
            "253.36\t-4.67\t-3.57\t6.48\t-6.96\t-1.67\t\n",
            "198.36\t-3.63\t-2.03\t5.23\t-5.29\t-1.09\t\n",
            "125.37\t-2.21\t-0.08\t3.59\t-3.08\t-0.51\t\n",
            "98.35\t-2.01\t0.70\t2.74\t-2.06\t-0.38\t\n",
            "392.77\t1.34\t-16.64\t19.88\t-18.76\t-3.56\t\n",
            "366.49\t-2.48\t-13.20\t13.84\t-14.61\t-2.92\t\n",
            "358.45\t-3.42\t-12.44\t12.48\t-13.54\t-2.47\t\n",
            "346.91\t-4.09\t-11.28\t11.45\t-12.40\t-2.27\t\n",
            "328.40\t-3.98\t-10.72\t10.09\t-11.42\t-1.92\t\n",
            "298.42\t-3.15\t-9.68\t9.79\t-10.59\t-1.51\t\n",
            "320.37\t-4.71\t-9.86\t9.20\t-10.19\t-1.74\t\n",
            "318.36\t-5.02\t-9.14\t8.59\t-9.97\t-1.81\t\n",
            "313.33\t-5.41\t-9.35\t7.73\t-9.63\t-1.81\t\n",
            "313.31\t-5.81\t-9.36\t7.41\t-9.32\t-2.07\t\n",
            "288.31\t-5.50\t-8.08\t6.24\t-8.35\t-1.25\t\n",
            "283.32\t-5.28\t-7.85\t6.36\t-8.25\t-1.50\t\n",
            "273.32\t-4.84\t-7.97\t6.37\t-8.21\t-1.12\t\n",
            "268.32\t-4.90\t-7.22\t6.31\t-7.79\t-1.26\t\n",
            "278.28\t-6.05\t-7.31\t5.29\t-7.46\t-1.39\t\n",
            "278.27\t-6.06\t-7.73\t5.12\t-7.57\t-1.26\t\n",
            "268.29\t-5.61\t-7.24\t5.38\t-7.36\t-1.26\t\n",
            "263.29\t-5.40\t-7.41\t5.34\t-7.38\t-1.25\t\n",
            "288.26\t-6.50\t-7.91\t5.00\t-7.69\t-0.80\t\n",
            "268.26\t-6.12\t-7.30\t4.70\t-7.08\t-1.15\t\n",
            "248.30\t-5.21\t-6.31\t5.21\t-6.66\t-1.14\t\n",
            "253.27\t-5.66\t-7.03\t4.62\t-6.77\t-1.12\t\n",
            "248.25\t-5.76\t-7.56\t4.04\t-6.70\t-1.11\t\n",
            "228.27\t-5.35\t-6.30\t4.01\t-5.90\t-1.00\t\n",
            "173.32\t-3.40\t-4.81\t4.26\t-4.79\t-0.94\t\n",
            "253.22\t-6.95\t-6.23\t3.24\t-5.75\t-0.93\t\n",
            "210.24\t-5.65\t-5.35\t2.95\t-4.87\t-0.53\t\n",
            "218.21\t-6.41\t-5.59\t2.38\t-4.72\t-1.02\t\n",
            "201.21\t-6.15\t-5.19\t1.95\t-4.08\t-0.44\t\n",
            "180.17\t-6.71\t-4.15\t1.21\t-3.12\t-0.51\t\n",
            "98.27\t-3.27\t-2.28\t1.48\t-1.49\t0.58\t\n",
            "138.20\t-5.27\t-3.56\t0.47\t-2.01\t-0.26\t\n",
            "133.21\t-5.05\t-3.62\t0.47\t-1.99\t-0.25\t\n",
            "148.19\t-5.70\t-3.53\t0.43\t-2.07\t-0.04\t\n",
            "148.18\t-6.19\t-2.89\t0.03\t-1.59\t-0.41\t\n",
            "98.18\t-5.00\t-2.48\t-0.45\t-0.69\t0.10\t\n",
            "78.16\t-5.02\t-1.80\t-1.98\t0.36\t0.27\t\n",
            "-115.71\t0.88\t2.57\t-2.39\t4.83\t1.75\t\n",
            "-157.74\t1.23\t3.99\t-4.66\t6.26\t2.19\t\n",
            "-441.44\t13.25\t7.54\t-2.62\t9.49\t3.98\t\n",
            "-286.68\t4.91\t6.39\t-6.12\t8.89\t2.85\t\n",
            "-301.67\t5.56\t6.02\t-5.32\t8.67\t2.75\t\n",
            "-301.69\t5.07\t6.57\t-6.52\t9.39\t2.28\t\n",
            "-291.71\t4.52\t6.22\t-6.62\t9.26\t2.37\t\n",
            "-501.56\t11.87\t9.01\t-7.06\t12.73\t3.79\t\n",
            "-251.83\t0.87\t7.11\t-9.21\t10.40\t1.95\t\n",
            "-421.63\t8.29\t9.53\t-7.18\t12.34\t3.51\t\n",
            "-451.62\t9.29\t9.61\t-8.31\t13.18\t3.32\t\n",
            "-501.58\t11.38\t9.90\t-8.12\t13.54\t3.51\t\n",
            "-616.44\t16.46\t11.31\t-6.82\t14.79\t3.90\t\n",
            "-421.68\t7.75\t8.76\t-9.03\t12.65\t2.82\t\n",
            "-701.44\t18.20\t13.05\t-8.48\t17.03\t3.43\t\n",
            "-601.59\t12.99\t11.68\t-10.49\t16.69\t3.72\t\n",
            "-701.49\t17.10\t13.09\t-9.68\t17.69\t3.99\t\n",
            "-601.60\t12.60\t12.58\t-11.08\t17.14\t4.57\t\n",
            "-601.64\t11.70\t12.68\t-11.81\t17.44\t4.03\t\n",
            "197.90\t-12.57\t-3.43\t-7.28\t0.11\t-1.23\t\n",
            "97.92\t-9.88\t-1.43\t-9.51\t1.95\t-0.29\t\n",
            "97.88\t-10.88\t-0.90\t-10.60\t2.71\t-0.06\t\n",
            "97.80\t-12.96\t-0.41\t-12.07\t4.73\t-0.43\t\n",
            "-32.08\t-7.91\t1.71\t-11.42\t6.67\t0.29\t\n",
            "52.79\t-12.18\t0.42\t-13.07\t6.01\t-0.41\t\n",
            "-58.26\t-11.28\t3.56\t-16.96\t9.94\t0.11\t\n",
            "-112.21\t-8.92\t3.56\t-16.67\t10.33\t0.33\t\n",
            "-142.16\t-7.67\t4.73\t-16.48\t11.24\t1.02\t\n",
            "-102.30\t-11.35\t4.42\t-19.66\t12.02\t0.76\t\n",
            "-169.27\t-9.58\t5.87\t-19.71\t13.62\t0.81\t\n",
            "-372.13\t-2.27\t8.16\t-20.82\t16.75\t1.62\t\n",
            "-552.08\t2.18\t11.92\t-23.37\t21.27\t2.66\t\n",
            "-851.90\t11.71\t17.28\t-25.52\t27.42\t3.88\t\n",
            "-1201.73\t23.07\t20.36\t-27.94\t33.11\t3.58\t\n",
            "-1151.78\t20.87\t19.99\t-28.37\t32.64\t3.51\t\n",
            "-1251.79\t22.29\t23.20\t-31.60\t36.11\t4.98\t\n",
            "391.88\t-0.44\t-16.26\t17.58\t-18.02\t-3.89\t\n",
            "391.06\t-1.10\t-15.77\t16.76\t-17.48\t-3.78\t\n",
            "391.55\t-1.23\t-16.00\t16.63\t-17.45\t-3.79\t\n",
            "388.84\t-1.40\t-15.43\t16.35\t-17.03\t-3.56\t\n",
            "388.73\t-1.70\t-15.38\t15.90\t-16.97\t-3.66\t\n",
            "389.82\t-1.85\t-15.41\t15.65\t-16.96\t-3.65\t\n",
            "388.50\t-2.29\t-15.02\t15.16\t-16.54\t-3.65\t\n",
            "388.60\t-2.29\t-15.03\t15.16\t-16.54\t-3.77\t\n",
            "388.70\t-2.40\t-15.02\t15.00\t-16.38\t-3.78\t\n",
            "386.29\t-2.39\t-15.03\t14.74\t-16.25\t-3.53\t\n",
            "385.09\t-2.53\t-14.70\t14.73\t-15.99\t-3.66\t\n",
            "386.27\t-2.98\t-14.78\t14.21\t-15.54\t-3.67\t\n",
            "378.74\t-3.74\t-13.72\t12.87\t-14.43\t-2.85\t\n",
            "378.51\t-4.33\t-13.32\t11.80\t-14.01\t-3.04\t\n"
          ],
          "name": "stdout"
        }
      ]
    },
    {
      "cell_type": "code",
      "metadata": {
        "id": "8asoTgQ0c1uA",
        "colab_type": "code",
        "colab": {
          "base_uri": "https://localhost:8080/",
          "height": 365
        },
        "outputId": "1b357d1b-94d1-41d2-87cb-abe34641b6e6"
      },
      "source": [
        "#plot pc1 vs pc2\n",
        "xAxis=[]\n",
        "yAxis=[]\n",
        "for i in newVals:\n",
        "  xAxis.append(float(i[0]))\n",
        "  yAxis.append(float(i[1]))\n",
        "\n",
        "boys_grades = [30, 29, 49, 48, 100, 48, 38, 45, 20, 30]\n",
        "grades_range = [10, 20, 30, 40, 50, 60, 70, 80, 90, 100]\n",
        "\n",
        "fig=plt.figure()\n",
        "ax=fig.add_axes([0,0,1,1])\n",
        "ax.scatter(xAxis, yAxis, color='b')\n",
        "ax.set_xlabel('PC1')\n",
        "ax.set_ylabel('PC2')\n",
        "ax.set_title('scattergraph of top 2 PCs')\n",
        "plt.show()"
      ],
      "execution_count": 17,
      "outputs": [
        {
          "output_type": "display_data",
          "data": {
            "image/png": "[encoded data removed]",
            "text/plain": [
              "<Figure size 432x288 with 1 Axes>"
            ]
          },
          "metadata": {
            "tags": [],
            "needs_background": "light"
          }
        }
      ]
    }
  ]
}
